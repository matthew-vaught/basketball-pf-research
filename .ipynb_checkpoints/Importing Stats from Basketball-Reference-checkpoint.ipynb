{
 "cells": [
  {
   "cell_type": "code",
   "execution_count": 8,
   "id": "0460febb",
   "metadata": {},
   "outputs": [],
   "source": [
    "from selenium import webdriver\n",
    "from bs4 import BeautifulSoup\n",
    "import pandas as pd\n",
    "import time\n",
    "\n",
    "# Create a function to scrape the data from a basketball-reference page\n",
    "def get_bballref_df(url, data_type):\n",
    "    # Initialize the selenium driver\n",
    "    driver = webdriver.Chrome()\n",
    "    \n",
    "    start_time = time.time()  # Record start time\n",
    "    max_wait_time = 30  # Maximum wait time in seconds\n",
    "    \n",
    "    try:\n",
    "        # Open the specified page\n",
    "        driver.get(url)\n",
    "        \n",
    "        # Continuously check the time until the page is fully loaded\n",
    "        while True:\n",
    "            elapsed_time = time.time() - start_time\n",
    "            if elapsed_time > max_wait_time:\n",
    "                print(f\"Timeout reached for {url}. Retrying...\")\n",
    "                driver.quit()\n",
    "                return get_bballref_df(url, data_type)\n",
    "            \n",
    "            # Check if page is loaded\n",
    "            if driver.execute_script(\"return document.readyState;\") == \"complete\":\n",
    "                break\n",
    "            \n",
    "            time.sleep(1)  # Wait a bit before checking again\n",
    "            \n",
    "        # Parse with BeautifulSoup\n",
    "        soup = BeautifulSoup(driver.page_source, 'html')\n",
    "    \n",
    "    except Exception as e:\n",
    "        print(f\"Error for {url}: {e}\")\n",
    "        driver.quit()\n",
    "        return get_bballref_df(url, data_type)\n",
    "\n",
    "    finally:\n",
    "        driver.quit()\n",
    "    \n",
    "    # Find the table\n",
    "    table = soup.find('table', {'id': data_type})\n",
    "    \n",
    "    # Parse the table data\n",
    "    df = pd.read_html(str(table))[0]  # Converts HTML table to DataFrame\n",
    "    \n",
    "    # Additional cleaning only needed for the shooting stats\n",
    "    if data_type == 'shooting_stats':\n",
    "        df.columns = df.columns.map(' - '.join)\n",
    "        for column in df.columns:\n",
    "            if 'Unnamed' in column:\n",
    "                new_column_name = column.split(' - ')[1]\n",
    "                df.rename(columns={column: new_column_name}, inplace=True)\n",
    "    \n",
    "    # Cleaning up the dataframes\n",
    "    for column in df.columns:\n",
    "        if 'Unnamed' in column:\n",
    "            df.drop(columns=[column], inplace=True)\n",
    "    \n",
    "    # Cleaning the data to only contain power forwards\n",
    "    df = df[df.get('Pos') == 'PF']\n",
    "    \n",
    "    return df"
   ]
  },
  {
   "cell_type": "code",
   "execution_count": 9,
   "id": "68b5b970",
   "metadata": {},
   "outputs": [
    {
     "name": "stdout",
     "output_type": "stream",
     "text": [
      "Timeout reached for https://www.basketball-reference.com/leagues/NBA_2015_advanced.html. Retrying...\n",
      "Error for https://www.basketball-reference.com/leagues/NBA_2016_advanced.html: Message: unknown error: cannot determine loading status\n",
      "from disconnected: unable to send message to renderer\n",
      "  (Session info: chrome=128.0.6613.139)\n",
      "Stacktrace:\n",
      "\tGetHandleVerifier [0x00007FF6C3359412+29090]\n",
      "\t(No symbol) [0x00007FF6C32CE239]\n",
      "\t(No symbol) [0x00007FF6C318B1DA]\n",
      "\t(No symbol) [0x00007FF6C3172EBC]\n",
      "\t(No symbol) [0x00007FF6C3172E2C]\n",
      "\t(No symbol) [0x00007FF6C31715CB]\n",
      "\t(No symbol) [0x00007FF6C317231F]\n",
      "\t(No symbol) [0x00007FF6C31811BD]\n",
      "\t(No symbol) [0x00007FF6C31995DD]\n",
      "\t(No symbol) [0x00007FF6C319F17A]\n",
      "\t(No symbol) [0x00007FF6C3172A6A]\n",
      "\t(No symbol) [0x00007FF6C3199176]\n",
      "\t(No symbol) [0x00007FF6C3226907]\n",
      "\t(No symbol) [0x00007FF6C3206493]\n",
      "\t(No symbol) [0x00007FF6C31D09D1]\n",
      "\t(No symbol) [0x00007FF6C31D1B31]\n",
      "\tGetHandleVerifier [0x00007FF6C367871D+3302573]\n",
      "\tGetHandleVerifier [0x00007FF6C36C4243+3612627]\n",
      "\tGetHandleVerifier [0x00007FF6C36BA417+3572135]\n",
      "\tGetHandleVerifier [0x00007FF6C3415EB6+801862]\n",
      "\t(No symbol) [0x00007FF6C32D945F]\n",
      "\t(No symbol) [0x00007FF6C32D4FB4]\n",
      "\t(No symbol) [0x00007FF6C32D5140]\n",
      "\t(No symbol) [0x00007FF6C32C461F]\n",
      "\tBaseThreadInitThunk [0x00007FF87BFB257D+29]\n",
      "\tRtlUserThreadStart [0x00007FF87D8AAF28+40]\n",
      "\n",
      "Timeout reached for https://www.basketball-reference.com/leagues/NBA_2016_advanced.html. Retrying...\n",
      "Timeout reached for https://www.basketball-reference.com/leagues/NBA_2016_advanced.html. Retrying...\n",
      "Timeout reached for https://www.basketball-reference.com/leagues/NBA_2016_advanced.html. Retrying...\n",
      "Timeout reached for https://www.basketball-reference.com/leagues/NBA_2017_advanced.html. Retrying...\n",
      "Timeout reached for https://www.basketball-reference.com/leagues/NBA_2022_advanced.html. Retrying...\n"
     ]
    }
   ],
   "source": [
    "# List out all the seasons we want data from\n",
    "seasons = ['2014', '2015', '2016', '2017', '2018', '2019', '2020', '2021', '2022', '2023', '2024']\n",
    "\n",
    "# Create a helper function to sort by TOT if the player was on multiple teams that season\n",
    "def keep_tot_or_first(group):\n",
    "    # If 'TOT' exists for the player, keep it\n",
    "    if 'TOT' in group['Tm'].values:\n",
    "        return group[group['Tm'] == 'TOT']\n",
    "    # Otherwise, keep the first entry (assuming it's the player's only entry)\n",
    "    return group.iloc[[0]]\n",
    "\n",
    "# Create a dictionary to store all the dataframes\n",
    "bballref_dfs = {}\n",
    "\n",
    "# Go through and extract the data from every season for the 2 desired categories\n",
    "for i in range(2):\n",
    "    if i == 0:\n",
    "        data = 'advanced'\n",
    "    else:\n",
    "        data = 'shooting'\n",
    "    for season in seasons:\n",
    "        url = f'https://www.basketball-reference.com/leagues/NBA_{season}_{data}.html'\n",
    "        df = get_bballref_df(url, data + '_stats')\n",
    "        df['Player'] = df['Player'].str.replace(r'\\*$', '', regex=True)\n",
    "        df = df.groupby('Player', group_keys=False).apply(keep_tot_or_first)\n",
    "        if i == 0:\n",
    "            df.drop(columns = ['Rk', 'Tm', 'Age', 'Pos', 'PER', 'ORB%', 'DRB%', 'TRB%', 'AST%', 'STL%', 'BLK%', 'TOV%', 'OWS', 'DWS', 'WS', 'WS/48', 'OBPM', 'DBPM', 'BPM', 'VORP'], inplace=True)\n",
    "        else:\n",
    "            df.drop(columns = ['Rk', 'Tm', 'Age', 'Pos', 'Dunks - %FGA', 'Dunks - #', 'Heaves - Att.', 'Heaves - #'], inplace=True)\n",
    "            df.rename(columns = {'Dist.': 'Avg FG Distance'}, inplace=True)\n",
    "        bballref_dfs[season + data] = df"
   ]
  },
  {
   "cell_type": "code",
   "execution_count": 10,
   "id": "f79ec163",
   "metadata": {},
   "outputs": [
    {
     "data": {
      "text/plain": [
       "Index(['Player', 'G', 'MP', 'TS%', '3PAr', 'FTr', 'USG%'], dtype='object')"
      ]
     },
     "execution_count": 10,
     "metadata": {},
     "output_type": "execute_result"
    }
   ],
   "source": [
    "bballref_dfs['2014advanced'].columns"
   ]
  },
  {
   "cell_type": "code",
   "execution_count": 11,
   "id": "174e3419",
   "metadata": {},
   "outputs": [
    {
     "data": {
      "text/plain": [
       "Index(['Player', 'G', 'MP', 'FG%', 'Avg FG Distance',\n",
       "       '% of FGA by Distance - 2P', '% of FGA by Distance - 0-3',\n",
       "       '% of FGA by Distance - 3-10', '% of FGA by Distance - 10-16',\n",
       "       '% of FGA by Distance - 16-3P', '% of FGA by Distance - 3P',\n",
       "       'FG% by Distance - 2P', 'FG% by Distance - 0-3',\n",
       "       'FG% by Distance - 3-10', 'FG% by Distance - 10-16',\n",
       "       'FG% by Distance - 16-3P', 'FG% by Distance - 3P', '% of FG Ast'd - 2P',\n",
       "       '% of FG Ast'd - 3P', 'Corner 3s - %3PA', 'Corner 3s - 3P%'],\n",
       "      dtype='object')"
      ]
     },
     "execution_count": 11,
     "metadata": {},
     "output_type": "execute_result"
    }
   ],
   "source": [
    "bballref_dfs['2018shooting'].columns"
   ]
  },
  {
   "cell_type": "code",
   "execution_count": 13,
   "id": "3fa161ca",
   "metadata": {},
   "outputs": [],
   "source": [
    "for df in bballref_dfs:\n",
    "    bballref_dfs[df].to_csv(f'{df}.csv')"
   ]
  },
  {
   "cell_type": "code",
   "execution_count": null,
   "id": "5cfc7d19",
   "metadata": {},
   "outputs": [],
   "source": []
  }
 ],
 "metadata": {
  "kernelspec": {
   "display_name": "Python 3 (ipykernel)",
   "language": "python",
   "name": "python3"
  },
  "language_info": {
   "codemirror_mode": {
    "name": "ipython",
    "version": 3
   },
   "file_extension": ".py",
   "mimetype": "text/x-python",
   "name": "python",
   "nbconvert_exporter": "python",
   "pygments_lexer": "ipython3",
   "version": "3.11.4"
  }
 },
 "nbformat": 4,
 "nbformat_minor": 5
}
