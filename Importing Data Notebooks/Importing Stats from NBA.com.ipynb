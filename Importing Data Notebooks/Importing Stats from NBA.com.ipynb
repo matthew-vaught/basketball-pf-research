{
 "cells": [
  {
   "cell_type": "code",
   "execution_count": 1,
   "id": "67949766",
   "metadata": {
    "scrolled": false
   },
   "outputs": [],
   "source": [
    "from selenium import webdriver\n",
    "from bs4 import BeautifulSoup\n",
    "import pandas as pd\n",
    "import time\n",
    "from selenium.webdriver.common.by import By\n",
    "from selenium.webdriver.common.action_chains import ActionChains\n",
    "\n",
    "# Initialize the Selenium driver\n",
    "driver = webdriver.Chrome()\n",
    "\n",
    "# List out the seasons and the different page types\n",
    "data_types = ['touches', 'drives', 'shooting-efficiency', 'offensive-rebounding', 'defensive-rebounding', 'defensive-impact']\n",
    "\n",
    "# Base URL\n",
    "base_url = 'https://www.nba.com/stats/players/touches?PlayerPosition=F&Season=2013-14&SeasonType=Regular+Season'\n",
    "\n",
    "# Dictionary to hold all final DataFrames\n",
    "final_dfs = {'2013-14': {}, '2014-15': {}, '2015-16': {}, '2016-17': {}, '2017-18': {}, '2018-19': {}, '2019-20': {}, '2020-21': {}, '2021-22': {}, '2022-23': {}, '2023-24': {}}\n",
    "\n",
    "for season in final_dfs:\n",
    "    for d in data_types:\n",
    "        # List to store all DataFrames\n",
    "        all_dataframes = []\n",
    "        \n",
    "        # Open the first page\n",
    "        driver.get(f'https://www.nba.com/stats/players/{d}?PlayerPosition=F&Season={season}&SeasonType=Regular+Season')\n",
    "        \n",
    "        for i in range(5):  # Loop through the three pages\n",
    "            time.sleep(10)  # Wait for the page to load\n",
    "            soup = BeautifulSoup(driver.page_source, 'html.parser')\n",
    "            \n",
    "            # Find the table\n",
    "            table = soup.find('table', {'class': 'Crom_table__p1iZz'})\n",
    "            \n",
    "            # Parse the table data\n",
    "            df = pd.read_html(str(table))[0]  # Converts HTML table to DataFrame\n",
    "            all_dataframes.append(df)\n",
    "            \n",
    "            # Click the \"Next\" button to go to the next page\n",
    "            next_button = driver.find_element(By.XPATH, '//*[@id=\"__next\"]/div[2]/div[2]/div[3]/section[2]/div/div[2]/div[2]/div[1]/div[5]/button[2]')\n",
    "            driver.execute_script(\"arguments[0].click();\", next_button)\n",
    "                        \n",
    "        # Combine into one dataframe\n",
    "        final_dfs[season][d] = pd.concat(all_dataframes, ignore_index=True)\n",
    "        \n",
    "        # Capitalize the column names in 'touches' and 'defense' to normalize them with the other dataframes\n",
    "        if d == 'touches':\n",
    "            final_dfs[season][d].columns = final_dfs[season][d].columns.str.upper()\n",
    "        if d == 'defensive-impact':\n",
    "            final_dfs[season][d].columns = final_dfs[season][d].columns.str.upper()\n",
    "\n",
    "driver.quit()\n",
    "\n",
    "merged_dfs = {}\n",
    "\n",
    "# Merge the dataframes into a singular dataframe per season\n",
    "for season in final_dfs:\n",
    "    merged_dfs[season] = pd.merge(final_dfs[season]['touches'], final_dfs[season]['drives'], on='PLAYER', suffixes=('', 'drives'))\n",
    "    merged_dfs[season] = pd.merge(merged_dfs[season], final_dfs[season]['shooting-efficiency'], on='PLAYER', suffixes=('', 'shooting-efficiency'))\n",
    "    merged_dfs[season] = pd.merge(merged_dfs[season], final_dfs[season]['offensive-rebounding'], on='PLAYER', suffixes=('', 'offensive-rebounding'))\n",
    "    merged_dfs[season] = pd.merge(merged_dfs[season], final_dfs[season]['defensive-rebounding'], on='PLAYER', suffixes=('', 'defensive-rebounding'))\n",
    "    merged_dfs[season] = pd.merge(merged_dfs[season], final_dfs[season]['defensive-impact'], on='PLAYER', suffixes=('', 'defensive-impact'))\n",
    "    merged_dfs[season] = merged_dfs[season].drop(columns = [col for col in merged_dfs[season].columns if 'drives' in col or 'shooting-efficiency' in col or 'offensive-rebounding' in col or 'defensive-rebounding' in col or 'defensive-impact' in col])"
   ]
  },
  {
   "cell_type": "code",
   "execution_count": 3,
   "id": "8727f04e",
   "metadata": {},
   "outputs": [],
   "source": [
    "for df in merged_dfs:\n",
    "    merged_dfs[df].to_csv(f'{df}.csv')"
   ]
  },
  {
   "cell_type": "code",
   "execution_count": null,
   "id": "55d9d5d8",
   "metadata": {},
   "outputs": [],
   "source": []
  }
 ],
 "metadata": {
  "kernelspec": {
   "display_name": "Python 3 (ipykernel)",
   "language": "python",
   "name": "python3"
  },
  "language_info": {
   "codemirror_mode": {
    "name": "ipython",
    "version": 3
   },
   "file_extension": ".py",
   "mimetype": "text/x-python",
   "name": "python",
   "nbconvert_exporter": "python",
   "pygments_lexer": "ipython3",
   "version": "3.11.4"
  }
 },
 "nbformat": 4,
 "nbformat_minor": 5
}
